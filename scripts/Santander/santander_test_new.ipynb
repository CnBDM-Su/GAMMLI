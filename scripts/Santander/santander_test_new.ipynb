{
 "cells": [
  {
   "cell_type": "code",
   "execution_count": 1,
   "metadata": {
    "scrolled": true
   },
   "outputs": [
    {
     "name": "stderr",
     "output_type": "stream",
     "text": [
      "WARNING: Logging before flag parsing goes to stderr.\n",
      "W0701 10:46:47.016756 11600 deprecation.py:323] From C:\\Users\\64161\\Anaconda3\\lib\\site-packages\\tensorflow_core\\python\\compat\\v2_compat.py:65: disable_resource_variables (from tensorflow.python.ops.variable_scope) is deprecated and will be removed in a future version.\n",
      "Instructions for updating:\n",
      "non-resource variables are not supported in the long term\n"
     ]
    },
    {
     "name": "stdout",
     "output_type": "stream",
     "text": [
      "Memory usage of dataframe is 108.45 MB\n"
     ]
    },
    {
     "name": "stderr",
     "output_type": "stream",
     "text": [
      "../..\\lvxnn\\DataReader.py:46: SettingWithCopyWarning: \n",
      "A value is trying to be set on a copy of a slice from a DataFrame.\n",
      "Try using .loc[row_indexer,col_indexer] = value instead\n",
      "\n",
      "See the caveats in the documentation: http://pandas.pydata.org/pandas-docs/stable/indexing.html#indexing-view-versus-copy\n",
      "  df[col] = df[col].astype('category')\n",
      "../..\\lvxnn\\DataReader.py:31: SettingWithCopyWarning: \n",
      "A value is trying to be set on a copy of a slice from a DataFrame.\n",
      "Try using .loc[row_indexer,col_indexer] = value instead\n",
      "\n",
      "See the caveats in the documentation: http://pandas.pydata.org/pandas-docs/stable/indexing.html#indexing-view-versus-copy\n",
      "  df[col] = df[col].astype(np.int8)\n",
      "../..\\lvxnn\\DataReader.py:40: SettingWithCopyWarning: \n",
      "A value is trying to be set on a copy of a slice from a DataFrame.\n",
      "Try using .loc[row_indexer,col_indexer] = value instead\n",
      "\n",
      "See the caveats in the documentation: http://pandas.pydata.org/pandas-docs/stable/indexing.html#indexing-view-versus-copy\n",
      "  df[col] = df[col].astype(np.float16)\n",
      "../..\\lvxnn\\DataReader.py:42: SettingWithCopyWarning: \n",
      "A value is trying to be set on a copy of a slice from a DataFrame.\n",
      "Try using .loc[row_indexer,col_indexer] = value instead\n",
      "\n",
      "See the caveats in the documentation: http://pandas.pydata.org/pandas-docs/stable/indexing.html#indexing-view-versus-copy\n",
      "  df[col] = df[col].astype(np.float32)\n",
      "../..\\lvxnn\\DataReader.py:35: SettingWithCopyWarning: \n",
      "A value is trying to be set on a copy of a slice from a DataFrame.\n",
      "Try using .loc[row_indexer,col_indexer] = value instead\n",
      "\n",
      "See the caveats in the documentation: http://pandas.pydata.org/pandas-docs/stable/indexing.html#indexing-view-versus-copy\n",
      "  df[col] = df[col].astype(np.int32)\n"
     ]
    },
    {
     "name": "stdout",
     "output_type": "stream",
     "text": [
      "Memory usage after optimization is: 23.42 MB\n",
      "Decreased by 78.4%\n",
      "Memory usage of dataframe is 27.11 MB\n",
      "Memory usage after optimization is: 5.86 MB\n",
      "Decreased by 78.4%\n",
      "test cold start user: 0\n",
      "test cold start item: 0\n",
      "validation cold start user: 0\n",
      "validation cold start item: 0\n"
     ]
    }
   ],
   "source": [
    "import pandas as pd\n",
    "import numpy as np\n",
    "from sklearn.model_selection import train_test_split\n",
    "from collections import OrderedDict\n",
    "import time\n",
    "from sklearn.metrics import mean_squared_error,roc_auc_score,mean_absolute_error,log_loss\n",
    "import sys\n",
    "sys.path.append('../benchmark/')\n",
    "from lvxnn_test import lvxnn\n",
    "from xgb_test import xgb\n",
    "from svd_test import svd\n",
    "from deepfm_fm_test import deepfm_fm\n",
    "import sys\n",
    "sys.path.append('../../')\n",
    "from lvxnn.LVXNN import LV_XNN\n",
    "from lvxnn.DataReader import data_initialize\n",
    "\n",
    "import tensorflow as tf\n",
    "tf.compat.v1.enable_eager_execution()\n",
    "random_state=0\n",
    "data= pd.read_csv('../santander/data/train_new.csv')\n",
    "train , test = train_test_split(data,test_size=0.2,random_state=1)\n",
    "\n",
    "task_type = \"Classification\"\n",
    "\n",
    "list1 = train.columns\n",
    "meta_info = OrderedDict()\n",
    "for i in list1:\n",
    "    meta_info[i]={'type': 'categorical','source':'user'}\n",
    "meta_info['income']={\"type\":\"continues\",'source':'user'}\n",
    "meta_info['cust_seniority']={\"type\":\"continues\",'source':'user'}\n",
    "meta_info['age'] = {\"type\":\"continues\",'source':'user'}\n",
    "meta_info['item'] = {'type': 'categorical','source':'item'}\n",
    "meta_info['user_id']={\"type\":\"id\",'source':'user'}\n",
    "meta_info['item_id']={\"type\":\"id\",'source':'item'}\n",
    "meta_info['target']={\"type\":\"target\",'source':''}\n",
    "\n",
    "lx_params = {\n",
    "        \"main_effect_epochs\":20,\n",
    "        \"interaction_epochs\" : 20 ,\n",
    "        \"tuning_epochs\" : 10 , \n",
    "        \"mf_training_iters\": 15,\n",
    "        \"u_group_num\": 50,\n",
    "        \"i_group_num\":10\n",
    "    }\n",
    "\n",
    "tr_x, tr_Xi, tr_y, tr_idx, te_x, te_Xi, te_y, val_x, val_Xi, val_y, val_idx, meta_info, model_info = data_initialize(train,test,meta_info,task_type ,'warm', random_state)"
   ]
  },
  {
   "cell_type": "code",
   "execution_count": 8,
   "metadata": {},
   "outputs": [
    {
     "name": "stderr",
     "output_type": "stream",
     "text": [
      "C:\\Users\\64161\\Anaconda3\\lib\\site-packages\\ipykernel_launcher.py:1: FutureWarning: elementwise comparison failed; returning scalar instead, but in the future will perform elementwise comparison\n",
      "  \"\"\"Entry point for launching an IPython kernel.\n"
     ]
    },
    {
     "data": {
      "text/plain": [
       "True"
      ]
     },
     "execution_count": 8,
     "metadata": {},
     "output_type": "execute_result"
    }
   ],
   "source": [
    "[(te_Xi[:,1] != 'cold') & (te_Xi[:,0] != 'cold')] == [True]"
   ]
  },
  {
   "cell_type": "code",
   "execution_count": null,
   "metadata": {},
   "outputs": [
    {
     "name": "stderr",
     "output_type": "stream",
     "text": [
      "../benchmark\\svd_test.py:101: FutureWarning: elementwise comparison failed; returning scalar instead, but in the future will perform elementwise comparison\n",
      "  if [(te_Xi[:,1] != 'cold') & (te_Xi[:,0] != 'cold')] != [True]:\n",
      "../benchmark\\svd_test.py:101: FutureWarning: elementwise comparison failed; returning scalar instead, but in the future will perform elementwise comparison\n",
      "  if [(te_Xi[:,1] != 'cold') & (te_Xi[:,0] != 'cold')] != [True]:\n",
      "../benchmark\\svd_test.py:101: FutureWarning: elementwise comparison failed; returning scalar instead, but in the future will perform elementwise comparison\n",
      "  if [(te_Xi[:,1] != 'cold') & (te_Xi[:,0] != 'cold')] != [True]:\n",
      "../benchmark\\svd_test.py:101: FutureWarning: elementwise comparison failed; returning scalar instead, but in the future will perform elementwise comparison\n",
      "  if [(te_Xi[:,1] != 'cold') & (te_Xi[:,0] != 'cold')] != [True]:\n",
      "../benchmark\\svd_test.py:101: FutureWarning: elementwise comparison failed; returning scalar instead, but in the future will perform elementwise comparison\n",
      "  if [(te_Xi[:,1] != 'cold') & (te_Xi[:,0] != 'cold')] != [True]:\n",
      "../benchmark\\svd_test.py:101: FutureWarning: elementwise comparison failed; returning scalar instead, but in the future will perform elementwise comparison\n",
      "  if [(te_Xi[:,1] != 'cold') & (te_Xi[:,0] != 'cold')] != [True]:\n",
      "../benchmark\\svd_test.py:101: FutureWarning: elementwise comparison failed; returning scalar instead, but in the future will perform elementwise comparison\n",
      "  if [(te_Xi[:,1] != 'cold') & (te_Xi[:,0] != 'cold')] != [True]:\n",
      "../benchmark\\svd_test.py:101: FutureWarning: elementwise comparison failed; returning scalar instead, but in the future will perform elementwise comparison\n",
      "  if [(te_Xi[:,1] != 'cold') & (te_Xi[:,0] != 'cold')] != [True]:\n",
      "../benchmark\\svd_test.py:101: FutureWarning: elementwise comparison failed; returning scalar instead, but in the future will perform elementwise comparison\n",
      "  if [(te_Xi[:,1] != 'cold') & (te_Xi[:,0] != 'cold')] != [True]:\n",
      "../benchmark\\svd_test.py:101: FutureWarning: elementwise comparison failed; returning scalar instead, but in the future will perform elementwise comparison\n",
      "  if [(te_Xi[:,1] != 'cold') & (te_Xi[:,0] != 'cold')] != [True]:\n"
     ]
    },
    {
     "name": "stdout",
     "output_type": "stream",
     "text": [
      "{'embedding_size': 5, 'deep_layers': [32, 32], 'use_deep': True, 'use_fm': True, 'deep_layers_activation': <function relu at 0x0000021207F1A158>, 'loss_type': 'mse', 'epoch': 10, 'batch_size': 1024, 'learning_rate': 0.01, 'optimizer_type': 'adam', 'batch_norm': 0, 'batch_norm_decay': 0.995, 'l2_reg': 0.01, 'verbose': False, 'eval_metric': <function mean_absolute_error at 0x0000021206748950>, 'random_seed': 0, 'feature_size': 36941, 'field_size': 20}\n"
     ]
    },
    {
     "name": "stderr",
     "output_type": "stream",
     "text": [
      "W0701 10:48:32.102771 11600 deprecation.py:506] From ../benchmark/deepfm\\DeepFM.py:93: calling dropout (from tensorflow.python.ops.nn_ops) with keep_prob is deprecated and will be removed in a future version.\n",
      "Instructions for updating:\n",
      "Please use `rate` instead of `keep_prob`. Rate should be set to `rate = 1 - keep_prob`.\n",
      "../benchmark\\deepfm_fm_test.py:176: FutureWarning: elementwise comparison failed; returning scalar instead, but in the future will perform elementwise comparison\n",
      "  if [(te_Xi[:,1] != 'cold') & (te_Xi[:,0] != 'cold')] != [True]:\n"
     ]
    },
    {
     "name": "stdout",
     "output_type": "stream",
     "text": [
      "{'embedding_size': 5, 'deep_layers': [32, 32], 'use_deep': True, 'use_fm': True, 'deep_layers_activation': <function relu at 0x0000021207F1A158>, 'loss_type': 'mse', 'epoch': 10, 'batch_size': 1024, 'learning_rate': 0.01, 'optimizer_type': 'adam', 'batch_norm': 0, 'batch_norm_decay': 0.995, 'l2_reg': 0.01, 'verbose': False, 'eval_metric': <function mean_absolute_error at 0x0000021206748950>, 'random_seed': 0, 'feature_size': 36941, 'field_size': 20}\n"
     ]
    },
    {
     "name": "stderr",
     "output_type": "stream",
     "text": [
      "../benchmark\\deepfm_fm_test.py:176: FutureWarning: elementwise comparison failed; returning scalar instead, but in the future will perform elementwise comparison\n",
      "  if [(te_Xi[:,1] != 'cold') & (te_Xi[:,0] != 'cold')] != [True]:\n"
     ]
    },
    {
     "name": "stdout",
     "output_type": "stream",
     "text": [
      "{'embedding_size': 5, 'deep_layers': [32, 32], 'use_deep': True, 'use_fm': True, 'deep_layers_activation': <function relu at 0x0000021207F1A158>, 'loss_type': 'mse', 'epoch': 10, 'batch_size': 1024, 'learning_rate': 0.01, 'optimizer_type': 'adam', 'batch_norm': 0, 'batch_norm_decay': 0.995, 'l2_reg': 0.01, 'verbose': False, 'eval_metric': <function mean_absolute_error at 0x0000021206748950>, 'random_seed': 0, 'feature_size': 36941, 'field_size': 20}\n"
     ]
    },
    {
     "name": "stderr",
     "output_type": "stream",
     "text": [
      "../benchmark\\deepfm_fm_test.py:176: FutureWarning: elementwise comparison failed; returning scalar instead, but in the future will perform elementwise comparison\n",
      "  if [(te_Xi[:,1] != 'cold') & (te_Xi[:,0] != 'cold')] != [True]:\n"
     ]
    },
    {
     "name": "stdout",
     "output_type": "stream",
     "text": [
      "{'embedding_size': 5, 'deep_layers': [32, 32], 'use_deep': True, 'use_fm': True, 'deep_layers_activation': <function relu at 0x0000021207F1A158>, 'loss_type': 'mse', 'epoch': 10, 'batch_size': 1024, 'learning_rate': 0.01, 'optimizer_type': 'adam', 'batch_norm': 0, 'batch_norm_decay': 0.995, 'l2_reg': 0.01, 'verbose': False, 'eval_metric': <function mean_absolute_error at 0x0000021206748950>, 'random_seed': 0, 'feature_size': 36941, 'field_size': 20}\n"
     ]
    },
    {
     "name": "stderr",
     "output_type": "stream",
     "text": [
      "../benchmark\\deepfm_fm_test.py:176: FutureWarning: elementwise comparison failed; returning scalar instead, but in the future will perform elementwise comparison\n",
      "  if [(te_Xi[:,1] != 'cold') & (te_Xi[:,0] != 'cold')] != [True]:\n"
     ]
    },
    {
     "name": "stdout",
     "output_type": "stream",
     "text": [
      "{'embedding_size': 5, 'deep_layers': [32, 32], 'use_deep': True, 'use_fm': True, 'deep_layers_activation': <function relu at 0x0000021207F1A158>, 'loss_type': 'mse', 'epoch': 10, 'batch_size': 1024, 'learning_rate': 0.01, 'optimizer_type': 'adam', 'batch_norm': 0, 'batch_norm_decay': 0.995, 'l2_reg': 0.01, 'verbose': False, 'eval_metric': <function mean_absolute_error at 0x0000021206748950>, 'random_seed': 0, 'feature_size': 36941, 'field_size': 20}\n"
     ]
    },
    {
     "name": "stderr",
     "output_type": "stream",
     "text": [
      "../benchmark\\deepfm_fm_test.py:176: FutureWarning: elementwise comparison failed; returning scalar instead, but in the future will perform elementwise comparison\n",
      "  if [(te_Xi[:,1] != 'cold') & (te_Xi[:,0] != 'cold')] != [True]:\n"
     ]
    },
    {
     "name": "stdout",
     "output_type": "stream",
     "text": [
      "{'embedding_size': 5, 'deep_layers': [32, 32], 'use_deep': True, 'use_fm': True, 'deep_layers_activation': <function relu at 0x0000021207F1A158>, 'loss_type': 'mse', 'epoch': 10, 'batch_size': 1024, 'learning_rate': 0.01, 'optimizer_type': 'adam', 'batch_norm': 0, 'batch_norm_decay': 0.995, 'l2_reg': 0.01, 'verbose': False, 'eval_metric': <function mean_absolute_error at 0x0000021206748950>, 'random_seed': 0, 'feature_size': 36941, 'field_size': 20}\n"
     ]
    }
   ],
   "source": [
    "#result_lvxnn = lvxnn('warm',tr_x, val_x, te_x, tr_y, val_y, te_y,tr_Xi, val_Xi, te_Xi, tr_idx, val_idx, meta_info, model_info, task_type , random_state=0, params=lx_params)\n",
    "result_svd = svd('warm',tr_x, val_x, te_x, tr_y, val_y, te_y,tr_Xi, val_Xi, te_Xi, tr_idx, val_idx, meta_info, model_info, task_type , random_state=0)\n",
    "result_deepfm, result_fm = deepfm_fm('warm',train,test,tr_x, val_x, te_x, tr_y, val_y, te_y,tr_Xi, val_Xi, te_Xi, tr_idx, val_idx, meta_info, model_info, task_type , random_state=0, epochs=10)\n",
    "result_xgb = xgb('warm',tr_x, val_x, te_x, tr_y, val_y, te_y,tr_Xi, val_Xi, te_Xi, tr_idx, val_idx, meta_info, model_info, task_type , random_state=0)\n",
    "\n",
    "\n",
    "result_sim_std = pd.concat([result_lvxnn,result_svd,result_xgb,result_deepfm,result_fm],0)\n",
    "\n",
    "result_sim_std.to_csv('santander_result.csv',index=None)"
   ]
  }
 ],
 "metadata": {
  "kernelspec": {
   "display_name": "Python 3",
   "language": "python",
   "name": "python3"
  },
  "language_info": {
   "codemirror_mode": {
    "name": "ipython",
    "version": 3
   },
   "file_extension": ".py",
   "mimetype": "text/x-python",
   "name": "python",
   "nbconvert_exporter": "python",
   "pygments_lexer": "ipython3",
   "version": "3.7.1"
  }
 },
 "nbformat": 4,
 "nbformat_minor": 2
}
