{
 "cells": [
  {
   "cell_type": "code",
   "execution_count": 1,
   "metadata": {},
   "outputs": [],
   "source": [
    "import pandas as pd\n",
    "import numpy as np\n",
    "from sklearn.model_selection import train_test_split\n",
    "from sklearn.ensemble import RandomForestRegressor\n",
    "from sklearn.metrics import mean_absolute_error\n",
    "from sklearn.metrics.pairwise import cosine_similarity\n",
    "from itertools import combinations\n",
    "from joblib import Parallel, delayed\n",
    "from collections import defaultdict, OrderedDict\n",
    "import json\n",
    "import re\n",
    "import tensorflow as tf"
   ]
  },
  {
   "cell_type": "code",
   "execution_count": 8,
   "metadata": {},
   "outputs": [],
   "source": [
    "ratings = pd.read_table('data/ratings.dat', header=None, names=['UserID', 'MovieID', 'Rating', 'Timestamp'], sep='::')\n",
    "users = pd.read_table('data/users.dat', header=None, names=['UserID','Gender','Age','Occupation','Zip-code'], sep='::')\n",
    "movies = pd.read_table('data/movies.dat', header=None, names=['MovieID', 'Title', 'Genres'], sep='::')\n",
    "data = pd.merge(pd.merge(users, ratings), movies)\n",
    "data1 = data.drop(['Gender','Age','Occupation','Zip-code','Timestamp','Title'],1,inplace=False)\n",
    "data2 = data.drop(['Title','Zip-code','Timestamp'],1,inplace=False)\n",
    "\n",
    "genres_unique = pd.DataFrame(data1['Genres'].str.split('|').tolist()).stack().unique()\n",
    "genres_unique = pd.DataFrame(genres_unique, columns=['Genre'])\n",
    "data1 = data1.join(data1.Genres.str.get_dummies())\n",
    "data1.drop('Genres', inplace=True, axis=1)\n",
    "\n",
    "data2.Gender = data2.Gender.apply(lambda x: 1 if x=='F' else 0)\n",
    "data2 = data2.drop(['UserID','MovieID','Genres','Rating'],1)\n",
    "data1 = pd.concat([data2,data1],1)\n",
    "\n",
    "order =['Gender', 'Age', 'Occupation', 'Action','Adventure', 'Animation', \"Children's\", 'Comedy', 'Crime',\n",
    "       'Documentary', 'Drama', 'Fantasy', 'Film-Noir', 'Horror', 'Musical', 'Mystery', 'Romance', 'Sci-Fi', 'Thriller', 'War', 'Western'\n",
    "        ,'UserID', 'MovieID', 'Rating']\n",
    "data1 = data1[order]\n",
    "\n",
    "data1.columns=['Gender', 'Age', 'Occupation', 'Action', 'Adventure', 'Animation',\n",
    "       \"Children's\", 'Comedy', 'Crime', 'Documentary', 'Drama', 'Fantasy',\n",
    "       'Film-Noir', 'Horror', 'Musical', 'Mystery', 'Romance', 'Sci-Fi',\n",
    "       'Thriller', 'War', 'Western', 'user_id', 'item_id', 'target']\n",
    "train, test = train_test_split(data1,test_size=0.2)\n",
    "\n",
    "train.to_csv('data/train.csv',index=None)\n",
    "test.to_csv('data/test.csv',index=None)"
   ]
  }
 ],
 "metadata": {
  "kernelspec": {
   "display_name": "Python 3",
   "language": "python",
   "name": "python3"
  },
  "language_info": {
   "codemirror_mode": {
    "name": "ipython",
    "version": 3
   },
   "file_extension": ".py",
   "mimetype": "text/x-python",
   "name": "python",
   "nbconvert_exporter": "python",
   "pygments_lexer": "ipython3",
   "version": "3.7.1"
  }
 },
 "nbformat": 4,
 "nbformat_minor": 2
}
